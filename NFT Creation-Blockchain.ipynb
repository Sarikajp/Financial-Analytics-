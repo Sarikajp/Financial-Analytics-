{
 "cells": [
  {
   "cell_type": "code",
   "execution_count": 1,
   "id": "17147097",
   "metadata": {},
   "outputs": [
    {
     "name": "stdout",
     "output_type": "stream",
     "text": [
      "Collecting bitcoin\n",
      "  Downloading bitcoin-1.1.42.tar.gz (36 kB)\n",
      "  Preparing metadata (setup.py): started\n",
      "  Preparing metadata (setup.py): finished with status 'done'\n",
      "Building wheels for collected packages: bitcoin\n",
      "  Building wheel for bitcoin (setup.py): started\n",
      "  Building wheel for bitcoin (setup.py): finished with status 'done'\n",
      "  Created wheel for bitcoin: filename=bitcoin-1.1.42-py3-none-any.whl size=44414 sha256=49cc1232295af0e3805a44c750c1755aa77fbf5defc138ee0b57e488cdd20dde\n",
      "  Stored in directory: c:\\users\\w2019695\\appdata\\local\\pip\\cache\\wheels\\14\\a2\\80\\015cc07bc6deb0f35087893f9bf45410e244909de54b709baf\n",
      "Successfully built bitcoin\n",
      "Installing collected packages: bitcoin\n",
      "Successfully installed bitcoin-1.1.42\n"
     ]
    }
   ],
   "source": [
    "!pip install bitcoin\n"
   ]
  },
  {
   "cell_type": "code",
   "execution_count": 2,
   "id": "f4f5ce10",
   "metadata": {},
   "outputs": [
    {
     "name": "stdout",
     "output_type": "stream",
     "text": [
      "Private Keys: ['2c2f8644183a678a0255ca6e29973ccaa635e56d99fbe042f9eef29b08698c4c', '8c19b5f70cc249c6cf7b728054f91ff356f9a053fdd90f2ccb4d0335101bfbd1', 'e1ea5ca0a35f2ee069bf5eafc4302ea7baba1fcdbe0c5d84811b9dfd30b3efb3', 'c5d6deaaace5955782431cccf20b77ba71521573054afecbae98998f225fffa7']\n",
      "Public Keys: ['041e5821246b749d54e88fe47ec75220f4516c07e586fbff46d842e92910828616955aa22f3c2eb59cbc7ba7e47cb9d287106a51e95ba9149397391123439e5170', '04bed6618d3397277065ddc8280c8d249f659cfd76f3d9a787fdec79fa076c959a7f275040d6e6d8528a2af990225a4830b1f27e129190d26fa81f41bc51e73699', '043144142c08beb8491d73a7a9c4cc0a863aeeec3bff5f1187121e1c4dabc48c4da0d5f2e585a4c04d36d29a2e1590a50667b8757031aef9bb01a14814f9e232ec', '0415c0c8c9ad6c800987235b19e67906f52b6c6ea5b1733c298eba37b2ebaa307893fae8234d6c7181e317c623a88f2134564d2a3773594460586f055152953135']\n"
     ]
    }
   ],
   "source": [
    "from bitcoin import *\n",
    "\n",
    "# Generate private keys for CEO, Alice, Bob, and Coo\n",
    "private_keys = [random_key() for _ in range(4)]\n",
    "public_keys = [privtopub(key) for key in private_keys]\n",
    "\n",
    "# Print the keys (for educational purposes; do not expose private keys in production)\n",
    "print(\"Private Keys:\", private_keys)\n",
    "print(\"Public Keys:\", public_keys)\n"
   ]
  },
  {
   "cell_type": "code",
   "execution_count": 3,
   "id": "f6a770d6",
   "metadata": {},
   "outputs": [
    {
     "name": "stdout",
     "output_type": "stream",
     "text": [
      "Multi-Signature Address: 35UUB8QPE7u4m7ZAXRB96jQ3P4opajzUCd\n"
     ]
    }
   ],
   "source": [
    "# Create a multi-signature address\n",
    "script = mk_multisig_script(public_keys, 3, 4)  # 3 of 4 signatures required\n",
    "multi_sig_address = scriptaddr(script)\n",
    "\n",
    "print(\"Multi-Signature Address:\", multi_sig_address)\n"
   ]
  },
  {
   "cell_type": "code",
   "execution_count": 9,
   "id": "2ba99945",
   "metadata": {},
   "outputs": [
    {
     "name": "stdout",
     "output_type": "stream",
     "text": [
      "Multi-Signature Address: 35UUB8QPE7u4m7ZAXRB96jQ3P4opajzUCd\n",
      "Inputs: [{'output': 'dummy_tx_id:0', 'value': 10000, 'address': '35UUB8QPE7u4m7ZAXRB96jQ3P4opajzUCd'}]\n",
      "Outputs: [{'address': 'destination_address', 'value': 9500}]\n"
     ]
    }
   ],
   "source": [
    "from bitcoin import *\n",
    "\n",
    "# Use the provided private and public keys\n",
    "private_keys = [\n",
    "    '2c2f8644183a678a0255ca6e29973ccaa635e56d99fbe042f9eef29b08698c4c',\n",
    "    '8c19b5f70cc249c6cf7b728054f91ff356f9a053fdd90f2ccb4d0335101bfbd1',\n",
    "    'e1ea5ca0a35f2ee069bf5eafc4302ea7baba1fcdbe0c5d84811b9dfd30b3efb3',\n",
    "    'c5d6deaaace5955782431cccf20b77ba71521573054afecbae98998f225fffa7'\n",
    "]\n",
    "public_keys = [\n",
    "    '041e5821246b749d54e88fe47ec75220f4516c07e586fbff46d842e92910828616955aa22f3c2eb59cbc7ba7e47cb9d287106a51e95ba9149397391123439e5170',\n",
    "    '04bed6618d3397277065ddc8280c8d249f659cfd76f3d9a787fdec79fa076c959a7f275040d6e6d8528a2af990225a4830b1f27e129190d26fa81f41bc51e73699',\n",
    "    '043144142c08beb8491d73a7a9c4cc0a863aeeec3bff5f1187121e1c4dabc48c4da0d5f2e585a4c04d36d29a2e1590a50667b8757031aef9bb01a14814f9e232ec',\n",
    "    '0415c0c8c9ad6c800987235b19e67906f52b6c6ea5b1733c298eba37b2ebaa307893fae8234d6c7181e317c623a88f2134564d2a3773594460586f055152953135'\n",
    "]\n",
    "\n",
    "# Use the provided multi-signature address\n",
    "multi_sig_address = '35UUB8QPE7u4m7ZAXRB96jQ3P4opajzUCd'\n",
    "\n",
    "# Create a multi-signature script\n",
    "script = mk_multisig_script(public_keys, 3, 4)  # 3 of 4 signatures required\n",
    "\n",
    "# Assume placeholder transaction details for educational purposes\n",
    "# Normally you would have real transaction output data here\n",
    "tx_id = 'dummy_tx_id'  # Placeholder transaction id\n",
    "tx_index = 0  # Placeholder index of the output in the previous transaction\n",
    "inputs = [{'output': f'{tx_id}:{tx_index}', 'value': 10000, 'address': multi_sig_address}]\n",
    "outputs = [{'address': 'destination_address', 'value': 9500}]  # Send to a destination address, leave some for a fee\n",
    "\n",
    "# Print inputs and outputs for educational purposes\n",
    "print(\"Multi-Signature Address:\", multi_sig_address)\n",
    "print(\"Inputs:\", inputs)\n",
    "print(\"Outputs:\", outputs)\n",
    "\n",
    "# Explain that in real code, you would replace 'dummy_tx_id' and 'tx_index' with actual values from a UTXO\n"
   ]
  },
  {
   "cell_type": "code",
   "execution_count": null,
   "id": "f142888c",
   "metadata": {},
   "outputs": [],
   "source": []
  }
 ],
 "metadata": {
  "kernelspec": {
   "display_name": "Python 3 (ipykernel)",
   "language": "python",
   "name": "python3"
  },
  "language_info": {
   "codemirror_mode": {
    "name": "ipython",
    "version": 3
   },
   "file_extension": ".py",
   "mimetype": "text/x-python",
   "name": "python",
   "nbconvert_exporter": "python",
   "pygments_lexer": "ipython3",
   "version": "3.11.5"
  }
 },
 "nbformat": 4,
 "nbformat_minor": 5
}
